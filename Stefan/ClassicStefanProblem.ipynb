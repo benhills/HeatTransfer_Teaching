{
 "cells": [
  {
   "cell_type": "markdown",
   "id": "ee76d183-2732-4a28-b8b7-823d2e8c0079",
   "metadata": {},
   "source": [
    "# Stefan Problem\n",
    "\n",
    "$$ \\frac{\\partial T}{\\partial t} = \\alpha \\nabla^2 T - v \\nabla T $$\n",
    "\n",
    "##### Initial comments on using this notebook: \n",
    "\n",
    "- If you are viewing this from a .pdf or .docx, please use the binder to open a Jupyter instance here, https://mybinder.org/v2/gh/benhills/HeatTransfer_Teaching/master.\n",
    "\n",
    "- There are different cells for code and for 'markdown' which is the text. If you double click on the text you can change it, but there is no reason to do that now.\n",
    "\n",
    "- We have provided helper notes on locations where we think that you should change the code to play around with one of the models (### Please Change! ###) as well as notes in places where you probably shouldn't change the code (### Don't Change ###). Having said that, if you are familiar with python feel free to change whatever you want.\n",
    "\n",
    "- The code can be run with the buttons at the top or from the keyboard. Press 'Shift+Enter' to run a cell and advance to the next cell or 'Ctrl+Enter' to run a cell and stay in it.\n",
    "\n",
    "- The figures are interactive. Try the sliders, zooming, panning, or rescaling the figure to get a better look at function output."
   ]
  }
 ],
 "metadata": {
  "kernelspec": {
   "display_name": "Python 3",
   "language": "python",
   "name": "python3"
  },
  "language_info": {
   "codemirror_mode": {
    "name": "ipython",
    "version": 3
   },
   "file_extension": ".py",
   "mimetype": "text/x-python",
   "name": "python",
   "nbconvert_exporter": "python",
   "pygments_lexer": "ipython3",
   "version": "3.8.8"
  }
 },
 "nbformat": 4,
 "nbformat_minor": 5
}
