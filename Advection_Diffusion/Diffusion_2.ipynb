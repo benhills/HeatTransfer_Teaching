{
 "cells": [
  {
   "cell_type": "markdown",
   "metadata": {},
   "source": [
    "# Thermal Diffusion in Ice (Advanced)\n",
    "\n",
    "This is the second notebook on heat transfer in ice. It will not make much sense without doing #1 first.\n",
    "\n",
    "### Numerical Solution to the Heat Equation\n",
    "\n",
    "Sometimes (in fact most of the time) physical problems are not as elegant as those we posed in notebook #1. Often, there is no easy solution to the heat equation for the given constraints. When problems are more difficult to solve, we must solve using numerical methods rather than analytical ones. Below, we will progress from the specialized cases in notebook #1 where the surface temperature had to be either fixed or harmonic, to a numerical solution where we can tell the surface boundary to be any temperature we would like and vary with time. \n",
    "\n",
    "##### Initial comments on using this notebook: \n",
    "\n",
    "- If you are viewing this from a .pdf or .docx, please use the binder to open a Jupyter instance here, https://mybinder.org/v2/gh/benhills/HeatTransfer_Teaching/master.\n",
    "\n",
    "- There are different cells for code and for 'markdown' which is the text. If you double click on the text you can change it, but there is no reason to do that now.\n",
    "\n",
    "- We have provided helper notes on locations where we think that you should change the code to play around with one of the models (### Please Change! ###) as well as notes in places where you probably shouldn't change the code (### Don't Change ###). Having said that, if you are familiar with python feel free to change whatever you want.\n",
    "\n",
    "- The code can be run with the buttons at the top or from the keyboard. Press 'Shift+Enter' to run a cell and advance to the next cell or 'Ctrl+Enter' to run a cell and stay in it.\n",
    "\n",
    "- The figures are interactive. Try the sliders, zooming, panning, or rescaling the figure to get a better look at function output."
   ]
  },
  {
   "cell_type": "code",
   "execution_count": null,
   "metadata": {},
   "outputs": [],
   "source": [
    "### Don't Change ###\n",
    "\n",
    "# Import the python libraries that we are going to need\n",
    "%matplotlib notebook\n",
    "import ipywidgets\n",
    "from heat_transfer_functions import *\n",
    "from heat_transfer_plotting import *"
   ]
  },
  {
   "cell_type": "code",
   "execution_count": null,
   "metadata": {},
   "outputs": [],
   "source": [
    "### Please Change! ###\n",
    "\n",
    "# Set up the problem with these constants\n",
    "T0 = -10.                     # mean temperature\n",
    "Ta = 1.                       # amplitude of temperature variations\n",
    "dt = 0.01                     # time step, be careful here if you take too big a time step the model will break\n",
    "dz = .1                       # distance step, again if the model breaks revisit this variable\n",
    "ts = np.arange(0,1+dt,dt)     # time in years\n",
    "zs = np.arange(0,20+dz,dz)    # a set of distances in meters\n",
    "ω = 1.                        # frequency of oscillation (cycles per yr)\n",
    "\n",
    "# Surface Boundary\n",
    "Tsurface = T0 + Ta*np.sin(2.*np.pi*ω*ts)\n",
    "\n",
    "# -----------------------------------------------------------------------------------------\n",
    "\n",
    "### Don't Change ###\n",
    "\n",
    "plt.figure(figsize=(4,3))\n",
    "plt.plot(ts,Tsurface,'k')\n",
    "plt.title('Surface Temperature')\n",
    "plt.xlabel('Time (years)')\n",
    "plt.ylabel('Temperature ($^\\circ$C)')\n",
    "plt.tight_layout()"
   ]
  },
  {
   "cell_type": "code",
   "execution_count": null,
   "metadata": {},
   "outputs": [],
   "source": [
    "### Don't Change ###\n",
    "\n",
    "T = numericalModel(zs=zs,ts=ts,dt=dt,BC_upper=Tsurface)\n",
    "\n",
    "l1,p1,l2,p2 = numerical_interactive(T,zs,ts,max(ts),10)\n",
    "\n",
    "# An update function for the interactive figure\n",
    "def update(z_idx = (0,len(zs)-1), t_idx = (0,len(ts)-1)):\n",
    "    l1.set_ydata(T[1:,z_idx])\n",
    "    p1.set_data(np.transpose([ts[t_idx],T[t_idx+1,z_idx]]))\n",
    "    l2.set_xdata(T[t_idx,:])\n",
    "    p2.set_data(np.transpose([T[t_idx,z_idx],zs[z_idx]]))\n",
    "    \n",
    "# Update with the sliders\n",
    "ipywidgets.interactive(update)"
   ]
  },
  {
   "cell_type": "markdown",
   "metadata": {},
   "source": [
    "### Questions:\n",
    "\n",
    "1) How is the numerical result different from the analytical result? Pay attention to the 'initial condition' that you started the model at (if you didn't change anything this initial condition should be constant at the air temperature).\n",
    "\n",
    "2) Try making the surface boundary condition something more complicated than a simple sine wave. How does the model respond?\n",
    "\n",
    "3) Try overlaying several sine waves of different frequencies. Before you plot the model result, think about which frequencies will propagate further into the ice. Does the result agree with your intuition? (Hint: you will probably have to change the times and the depths as well to see the result in the figures)."
   ]
  }
 ],
 "metadata": {
  "kernelspec": {
   "display_name": "Python 3",
   "language": "python",
   "name": "python3"
  },
  "language_info": {
   "codemirror_mode": {
    "name": "ipython",
    "version": 3
   },
   "file_extension": ".py",
   "mimetype": "text/x-python",
   "name": "python",
   "nbconvert_exporter": "python",
   "pygments_lexer": "ipython3",
   "version": "3.8.8"
  }
 },
 "nbformat": 4,
 "nbformat_minor": 4
}
