{
 "cells": [
  {
   "cell_type": "markdown",
   "metadata": {},
   "source": [
    "# Full-Thickness Glacier Temperature Profile\n",
    "\n",
    "This week’s lab is designed to give you a better intuition regarding the time scales of heat transfer in ice, now with both advection and diffusion, described by the heat equation\n",
    "\n",
    "$$ \\frac{\\partial T}{\\partial t} = \\alpha \\nabla^2 T - v \\nabla T $$\n",
    "\n",
    "To gain experience with some solutions to this heat equation, we have prepared a Python notebook. The idea is to allow you to vary input parameters for a few scenarios and learn to better anticipate what the results might be. It is not important that you have a background in coding with python. Rather, the intent here is that you adjust inputs to the functions and think about the results.\n",
    "\n",
    "##### Initial comments on using this notebook: \n",
    "\n",
    "- If you are viewing this from a .pdf or .docx, please use the binder to open a Jupyter instance here, https://mybinder.org/v2/gh/benhills/ESS431_Labs/master.\n",
    "\n",
    "- There are different cells for code and for 'markdown' which is the text. If you double click on the text you can change it, but there is no reason to do that now.\n",
    "\n",
    "- We have provided helper notes on locations where we think that you should change the code to play around with one of the models (### Please Change! ###) as well as notes in places where you probably shouldn't change the code (### Don't Change ###). Having said that, if you are familiar with python feel free to change whatever you want.\n",
    "\n",
    "- The code can be run with the buttons at the top or from the keyboard. Press 'Shift+Enter' to run a cell and advance to the next cell or 'Ctrl+Enter' to run a cell and stay in it.\n",
    "\n",
    "- The figures are interactive. Try the sliders, zooming, panning, or rescaling the figure to get a better look at function output."
   ]
  },
  {
   "cell_type": "code",
   "execution_count": null,
   "metadata": {},
   "outputs": [],
   "source": [
    "### Don't Change ###\n",
    "\n",
    "# Import the python libraries that we are going to need\n",
    "%matplotlib widget\n",
    "import ipywidgets\n",
    "from heat_transfer_functions import *\n",
    "from heat_transfer_plotting import *"
   ]
  },
  {
   "cell_type": "markdown",
   "metadata": {},
   "source": [
    "## The Robin Solution\n",
    "\n",
    "The most commonly used solution to the heat equation in glaciology is that of Robin (1955). This solution assumes steady-state conditions and only vertical advection associated with accumulation (no horizontal motion at all). With the interactive figure below try adjusting the following variables to get a feel for full ice thickness temperature profiles in a glacier:\n",
    "\n",
    "- Surface Temperature (Ts; $^\\circ$C)\n",
    "- Geothermal Flux (qgeo; W/m$^2$)\n",
    "- Thickness (H; m)\n",
    "- Accumulation Rate (adot; m/yr)"
   ]
  },
  {
   "cell_type": "code",
   "execution_count": null,
   "metadata": {},
   "outputs": [],
   "source": [
    "### Don't Change ###\n",
    "\n",
    "# Plot the figure using a local plotting function\n",
    "l1 = Robin_interactive()\n",
    "\n",
    "# An update function for the interactive figure\n",
    "def update(Ts = (-60,0), qgeo = (0,.1,.005), H = (100,4000), adot=(0.001,2.,.01)):\n",
    "    z,T = Robin_T(Ts,qgeo,H,adot)\n",
    "    l1.set_data(np.array([T,z]))\n",
    "    \n",
    "# Update with the sliders\n",
    "ipywidgets.interactive(update)"
   ]
  },
  {
   "cell_type": "markdown",
   "metadata": {},
   "source": [
    "## Questions\n",
    "\n",
    "1) Briefly describe how each of the variables (Ts, qgeo, H, adot) control the glacier temperature profile.\n",
    "\n",
    "2) Use the calculated temperature profile to calculate a temperature gradient near the bed and compare that to the geothermal flux (the next few cells will walk you through this). Remember that the thermal conductivity is important here ($k_{ice}=2.1 W/mK$):\n",
    "\n",
    "$$ \\frac{q_{geo}}{k} = -\\frac{\\partial T}{\\partial z} $$"
   ]
  },
  {
   "cell_type": "code",
   "execution_count": null,
   "metadata": {},
   "outputs": [],
   "source": [
    "# First, recalculate the temperature profile for a given parameter input\n",
    "Ts = -50.\n",
    "qgeo =0.05\n",
    "H = 2000.\n",
    "adot = 0.1\n",
    "\n",
    "z,T = Robin_T(Ts,qgeo,H,adot)"
   ]
  },
  {
   "cell_type": "code",
   "execution_count": null,
   "metadata": {},
   "outputs": [],
   "source": [
    "# Index a particular point in the temperature or depth array\n",
    "index = 0\n",
    "# Python indexing is done with [] and starts from 0\n",
    "T[index]\n",
    "z[index]\n",
    "\n",
    "# Print the temperature and depth at the given index\n",
    "print(round(T[index],2),'degrees at',round(z[index],2),'meters above the bed',)"
   ]
  },
  {
   "cell_type": "code",
   "execution_count": null,
   "metadata": {},
   "outputs": [],
   "source": [
    "# Now, index the bottom two points in the profile and use them to calculate a temperature gradient (dT/dz)"
   ]
  },
  {
   "cell_type": "code",
   "execution_count": null,
   "metadata": {},
   "outputs": [],
   "source": [
    "# Compare the temperature gradient to what it is 'supposed to be' from the geothermal flux\n",
    "k = 2.1"
   ]
  }
 ],
 "metadata": {
  "kernelspec": {
   "display_name": "Python 3",
   "language": "python",
   "name": "python3"
  },
  "language_info": {
   "codemirror_mode": {
    "name": "ipython",
    "version": 3
   },
   "file_extension": ".py",
   "mimetype": "text/x-python",
   "name": "python",
   "nbconvert_exporter": "python",
   "pygments_lexer": "ipython3",
   "version": "3.7.3"
  }
 },
 "nbformat": 4,
 "nbformat_minor": 2
}
